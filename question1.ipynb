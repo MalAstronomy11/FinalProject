{
 "cells": [
  {
   "cell_type": "markdown",
   "metadata": {},
   "source": [
    "# Database for a time domain survey\n"
   ]
  },
  {
   "cell_type": "markdown",
   "metadata": {},
   "source": [
    "This database stores the information of stars imaged from a certain patch of the sky divided into different sub-areas, that constitute a field, in different filters. The filters used are Z, Y, J, H and Ks, where Ks band is re-observed to attain more information about the lightcurve of the stars. \n",
    "\n",
    "This database is built and populated through sqlite3 using Python. It has 18 individual tables for each combination of Filter and Field. Python is used for the sole reason that unlike sqlite it allows looping. This is helpful as looping reduces the length of the code and enables us to create and populate all 18 tables at once. \n",
    " "
   ]
  },
  {
   "cell_type": "markdown",
   "metadata": {},
   "source": [
    "In the following block, all the modules necessary for further tasks is imported."
   ]
  },
  {
   "cell_type": "code",
   "execution_count": 1,
   "metadata": {
    "collapsed": true
   },
   "outputs": [],
   "source": [
    "from astropy.io import fits\n",
    "import numpy as np\n",
    "from astropy.table import Table\n",
    "import matplotlib.pyplot as plt"
   ]
  },
  {
   "cell_type": "markdown",
   "metadata": {},
   "source": [
    "## Converting a .fits file to a .csv file\n",
    "The data provided is in the .fits format. Although this format is useful for storing the data, it cannot be read into the database directly through sqlite3. Popularly sqlite3 reads .csv files without a hassel. Hence this conversion is made."
   ]
  },
  {
   "cell_type": "code",
   "execution_count": 2,
   "metadata": {
    "collapsed": true
   },
   "outputs": [],
   "source": [
    "for r in ['1-H','1-J','1-Ks-E001','1-Ks-E002','1-Ks-E003','1-Y','1-Z','2-H','2-J','2-Ks-E001','2-Y','2-Z','3-H','3-J','3-Ks-E001','3-Ks-E002','3-Y','3-Z']:\n",
    "    filename='Field-' + r + '.fits'\n",
    "    data = fits.getdata(filename, 1)\n",
    "    t = Table(data)\n",
    "    t.write('Field-' + r +'.csv',overwrite=True)\n",
    "    "
   ]
  },
  {
   "cell_type": "markdown",
   "metadata": {},
   "source": [
    "## Creating and populating the database \n",
    "Once the data from each field and filter is converted into .csv files, they can easily be read into the database as tables through sqlite3 using python. The database is named \"Database\" with very less creativity. "
   ]
  },
  {
   "cell_type": "markdown",
   "metadata": {},
   "source": [
    "### Creating and populating the Reference table\n",
    "This is intended to be a Relational Database, as it links each of the 18 tables to a single Reference table by their filenames. The Reference Table acts as the child table in which the 18 foreign keys are introduced hence linking it to the 18 parent tables. This makes sure that any changes made to one table is updated in the other linking table such that there is no ambuiguity and confusion in the changed data. The Reference table is created and populated in the following block. "
   ]
  },
  {
   "cell_type": "code",
   "execution_count": 6,
   "metadata": {
    "scrolled": true
   },
   "outputs": [
    {
     "name": "stdout",
     "output_type": "stream",
     "text": [
      "('1', '1', 'Field-1-Z.csv', 'Z', '57267.1671072', '1.6405', '40.0')\n",
      "('2', '1', 'Field-1-J.csv', 'J', '57257.0504323', '1.0105', '48.0')\n",
      "('3', '1', 'Field-1-H.csv', 'H', '57257.044108', '1.006', '16.0')\n",
      "('4', '1', 'Field-1-Ks-E002.csv', 'Ks', '56788.346937', '1.023', '16.0')\n",
      "('5', '1', 'Field-1-Ks-E001.csv', 'Ks', '56561.0020158', '1.079', '16.0')\n",
      "('6', '1', 'Field-1-Ks-E003.csv', 'Ks', '56829.0390512', '1.6085', '16.0')\n",
      "('7', '1', 'Field-1-Y.csv', 'Y', '57267.1596647', '1.5605', '40.0')\n",
      "('8', '2', 'Field-2-Z.csv', 'Z', '57268.1671072', '1.6405', '40.0')\n",
      "('9', '2', 'Field-2-J.csv', 'J', '57258.0504323', '1.0105', '48.0')\n",
      "('10', '2', 'Field-2-H.csv', 'H', '57258.044108', '1.006', '16.0')\n",
      "('11', '2', 'Field-2-Ks-E001.csv', 'Ks', '56789.346937', '1.023', '16.0')\n",
      "('12', '2', 'Field-2-Y.csv', 'Y', '57268.1596647', '1.5605', '40.0')\n",
      "('13', '3', 'Field-3-Z.csv', 'Z', '57268.1671072', '1.6405', '40.0')\n",
      "('14', '3', 'Field-3-J.csv', 'J', '57258.0504323', '1.0105', '48.0')\n",
      "('15', '3', 'Field-3-H.csv', 'H', '57258.044108', '1.006', '16.0')\n",
      "('16', '3', 'Field-3-Ks-E002.csv', 'Ks', '56789.346937', '1.023', '16.0')\n",
      "('17', '3', 'Field-3-Ks-E001.csv', 'Ks', '56562.0020158', '1.079', '16.0')\n",
      "('18', '3', 'Field-3-Y.csv', 'Y', '57268.1596647', '1.5605', '40.0')\n"
     ]
    }
   ],
   "source": [
    "import sqlite3 as lite \n",
    "import csv\n",
    "var= ('Field_1_H','Field_1_J','Field_1_Ks_E001','Field_1_Ks_E002','Field_1_Ks_E003','Field_1_Y','Field_1_Z','Field_2_H','Field_2_J','Field_2_Ks_E001','Field_2_Y','Field_2_Z','Field_3_H','Field_3_J','Field_3_Ks_E001','Field_3_Ks_E002','Field_3_Y','Field_3_Z')\n",
    "\n",
    "con=lite.connect('Database.db')\n",
    "\n",
    "with con:\n",
    "    cur=con.cursor()\n",
    "    command= \"CREATE TABLE IF NOT EXISTS {0}(ID INT, FieldID INT, Filename varchar(20), Filter varchar(20), MJD FLOAT, Airmass FLOAT, Exptime FLOAT, FOREIGN KEY (Filename) REFERENCES Field_1_H (filename),FOREIGN KEY (Filename) REFERENCES Field_1_J (filename),FOREIGN KEY (Filename) REFERENCES Field_1_Ks_E001 (filename),FOREIGN KEY (Filename) REFERENCES Field_1_Ks_E002 (filename),FOREIGN KEY (Filename) REFERENCES Field_1_Ks_E003 (filename),FOREIGN KEY (Filename) REFERENCES Field_1_Y (filename),FOREIGN KEY (Filename) REFERENCES Field_1_Z (filename),FOREIGN KEY (Filename) REFERENCES Field_2_H (filename),FOREIGN KEY (Filename) REFERENCES Field_2_J (filename),FOREIGN KEY (Filename) REFERENCES Field_2_Ks_E001 (filename),FOREIGN KEY (Filename) REFERENCES Field_2_Y (filename),FOREIGN KEY (Filename) REFERENCES Field_2_Z (filename),FOREIGN KEY (Filename) REFERENCES Field_3_H (filename),FOREIGN KEY (Filename) REFERENCES Field_3_J (filename),FOREIGN KEY (Filename) REFERENCES Field_3_Ks_E001 (filename),FOREIGN KEY (Filename) REFERENCES Field_3_Ks_E002 (filename)FOREIGN KEY (Filename) REFERENCES Field_3_Y (filename),FOREIGN KEY (Filename) REFERENCES Field_3_Z (filename));\".format('Reference')\n",
    "    cur.execute(command)\n",
    "    \n",
    "    with open('Reference.csv','rb') as fin:\n",
    "        dr=csv.DictReader(fin)\n",
    "        \n",
    "        for j,i in enumerate(dr):\n",
    "            to_db = (i['ID'], i['FieldID'], i['Filename'], i['Filter'], i['MJD'],\n",
    "                     i['Airmass'], i['Exptime'])\n",
    "            print to_db\n",
    "            cur.execute(\"INSERT INTO Reference (ID,FieldID,Filename,Filter,MJD,Airmass,Exptime) VALUES (?,?,?,?,?,?,?);\",to_db)\n",
    "            cur.execute(\"INSERT INTO Reference (Filename) VALUES (?);\",(var[j],))\n",
    "            j=j+1\n",
    "con.commit()\n",
    "con.close()   \n"
   ]
  },
  {
   "cell_type": "markdown",
   "metadata": {},
   "source": [
    "Reference: https://alvinalexander.com/android/sqlite-foreign-keys-example"
   ]
  },
  {
   "cell_type": "markdown",
   "metadata": {},
   "source": [
    "### Creating and populating the 18 data tabels\n",
    "In the following block the 18 data tables are created and populated just as is done for the Reference table."
   ]
  },
  {
   "cell_type": "code",
   "execution_count": 7,
   "metadata": {
    "collapsed": true
   },
   "outputs": [],
   "source": [
    "\n",
    "con=lite.connect('Database.db')\n",
    "tn=['Field_1_H','Field_1_J','Field_1_Ks_E001','Field_1_Ks_E002','Field_1_Ks_E003','Field_1_Y','Field_1_Z','Field_2_H','Field_2_J','Field_2_Ks_E001','Field_2_Y','Field_2_Z','Field_3_H','Field_3_J','Field_3_Ks_E001','Field_3_Ks_E002','Field_3_Y','Field_3_Z']\n",
    "j=0\n",
    "for r in ['1-H','1-J','1-Ks-E001','1-Ks-E002','1-Ks-E003','1-Y','1-Z','2-H','2-J','2-Ks-E001','2-Y','2-Z','3-H','3-J','3-Ks-E001','3-Ks-E002','3-Y','3-Z']:    \n",
    "    with con:\n",
    "        cur=con.cursor()\n",
    "        tablename='Field-'+ r\n",
    "        tname= tablename + '.csv'\n",
    "        cur.execute(\"CREATE TABLE IF NOT EXISTS {} (RunningID FLOAT, X FLOAT, Y FLOAT, Flux1 FLOAT,dFlux1 FLOAT, Flux2 FLOAT, dFlux2 FLOAT, Flux3 FLOAT, dFlux3 FLOAT, Ra FLOAT, Dec FLOAT, Class FLOAT, Mag1 FLOAT, dMag1 FLOAT, Mag2 FLOAT, dMag2 FLOAT, Mag3 FLOAT, dMag3 FLOAT, StarID INT, filename varchar(20));\".format(tn[j]))\n",
    "\n",
    "        with open(tname,'rb') as fin:\n",
    "            dr=csv.DictReader(fin)\n",
    "            for i in dr:\n",
    "                to_db = (i['RunningID'], i['X'], i['Y'], i['Flux1'], i['dFlux1'],\n",
    "                         i['Flux2'], i['dFlux2'],i['Flux3'],i['dFlux3'],i['Ra'],\n",
    "                         i['Dec'],i['Class'],i['Mag1'],i['dMag1'],i['Mag2'],i['dMag2'],\n",
    "                         i['Mag3'],i['dMag3'],i['StarID'])\n",
    "                cur.execute(\"INSERT INTO \" + tn[j] +\"(RunningID,X,Y,Flux1,dFlux1,Flux2,dFlux2,Flux3,dFlux3,Ra,Dec,Class,Mag1,dMag1,Mag2,dMag2,Mag3,dMag3,StarID) VALUES (?,?,?,?,?,?,?,?,?,?,?,?,?,?,?,?,?,?,?);\",to_db)\n",
    "    j=j+1\n",
    "con.commit()\n",
    "con.close() \n",
    "\n",
    "\n",
    "    "
   ]
  },
  {
   "cell_type": "markdown",
   "metadata": {},
   "source": [
    "In the block below, to each of the 18 tables, a column called 'filename' is added and populated with its filename. This acts as a primary key which is linked to the foreign key 'Filename' in the Reference Table. "
   ]
  },
  {
   "cell_type": "code",
   "execution_count": 8,
   "metadata": {
    "collapsed": true
   },
   "outputs": [],
   "source": [
    "con=lite.connect('Database.db')\n",
    "tn=['Field_1_H','Field_1_J','Field_1_Ks_E001','Field_1_Ks_E002','Field_1_Ks_E003','Field_1_Y','Field_1_Z','Field_2_H','Field_2_J','Field_2_Ks_E001','Field_2_Y','Field_2_Z','Field_3_H','Field_3_J','Field_3_Ks_E001','Field_3_Ks_E002','Field_3_Y','Field_3_Z']\n",
    "j=0\n",
    "for r in ['1-H','1-J','1-Ks-E001','1-Ks-E002','1-Ks-E003','1-Y','1-Z','2-H','2-J','2-Ks-E001','2-Y','2-Z','3-H','3-J','3-Ks-E001','3-Ks-E002','3-Y','3-Z']:    \n",
    "    with con:\n",
    "        cur=con.cursor()\n",
    "        cur.execute(\"UPDATE {0} SET filename= '{1}';\".format(tn[j],tn[j]))\n",
    "con.commit()\n",
    "con.close()    \n",
    "    \n",
    "    \n",
    "    "
   ]
  },
  {
   "cell_type": "markdown",
   "metadata": {},
   "source": [
    "## Performing the queries: \n",
    "Note: The following codes have been written and run in sqlite3 "
   ]
  },
  {
   "cell_type": "markdown",
   "metadata": {},
   "source": [
    "## R1\n",
    "Q: Find all images observed between MJD=56800 and MJD=57300 and give me the number of stars detected with S/N > 5 in each image."
   ]
  },
  {
   "cell_type": "markdown",
   "metadata": {},
   "source": [
    "### Code:\n",
    "SELECT Filename\n",
    "<br>\n",
    "FROM Reference\n",
    "<br>\n",
    "WHERE MJD > 56800 AND MJD < 57300;\n",
    "<br>\n",
    "\n",
    "SELECT count(*)\n",
    "<br>\n",
    "FROM Reference\n",
    "<br>\n",
    "WHERE MJD > 56800 AND MJD < 57300;\n",
    "\n",
    "### A : The images observed between MJD=56800 and MJD=57300 and their respective number of stars detected with S/N>5 are :\n",
    "\n",
    "Filename : \n",
    "<br>\n",
    "<br>\n",
    "Field-1-Z.csv <br>\n",
    "Field-1-J.csv <br>\n",
    "Field-1-H.csv <br>\n",
    "Field-1-Ks-E003.csv <br>\n",
    "Field-1-Y.csv <br>\n",
    "Field-2-Z.csv <br>\n",
    "Field-2-J.csv <br>\n",
    "Field-2-H.csv <br> \n",
    "Field-2-Y.csv <br>\n",
    "Field-3-Z.csv <br>\n",
    "Field-3-J.csv <br>\n",
    "Field-3-H.csv <br>\n",
    "Field-3-Y.csv <br>\n",
    "\n",
    "Field-1-Z.csv-9862 <br>\n",
    "Field-1-J.csv-9985 <br>\n",
    "Field-1-H.csv-9990 <br>\n",
    "Field-1-Ks-E003.csv-9992 <br>\n",
    "Field-1-Y.csv-9967 <br>\n",
    "Field-2-Z.csv-9968 <br>\n",
    "Field-2-J.csv-9985 <br>\n",
    "Field-2-H.csv-9985 <br>\n",
    "Field-2-Y.csv-9985 <br>\n",
    "Field-3-Z.csv-9930 <br>\n",
    "Field-3-J.csv-9983 <br>\n",
    "Field-3-H.csv-9987 <br>\n",
    "Field-3-Y.csv-9977 <br>\n"
   ]
  },
  {
   "cell_type": "markdown",
   "metadata": {},
   "source": [
    "## R2\n",
    "Q: Find the objects that have J-H > 1.5"
   ]
  },
  {
   "cell_type": "markdown",
   "metadata": {},
   "source": [
    "### Code:\n",
    ".output JH.csv <br>\n",
    "SELECT J.Mag1-H.Mag1, J.StarID <br>\n",
    "FROM Field_1_J as J <br>\n",
    "JOIN Field_1_H as H ON J.StarID=H.StarID <br>\n",
    "WHERE J.Mag1-H.Mag1>1.5 <br>\n",
    "UNION <br>\n",
    "SELECT J.Mag1-H.Mag1, J.StarID <br>\n",
    "FROM Field_2_J as J <br>\n",
    "JOIN Field_2_H as H ON J.StarID=H.StarID <br>\n",
    "WHERE J.Mag1-H.Mag1>1.5 <br>\n",
    "UNION <br>\n",
    "SELECT J.Mag1-H.Mag1,J.StarID <br>\n",
    "FROM Field_3_J as J <br>\n",
    "JOIN Field_3_H as H ON J.StarID=H.StarID <br>\n",
    "WHERE J.Mag1-H.Mag1>1.5; <br>\n",
    "\n",
    "### A : The objects that that have J-H > 1.5 are saved in a .csv file and plotted in a histogram as shown below.\n"
   ]
  },
  {
   "cell_type": "markdown",
   "metadata": {},
   "source": [
    "Observation: The number of objects seem to be exponentially reducing with an increase in J-H. "
   ]
  },
  {
   "cell_type": "code",
   "execution_count": 9,
   "metadata": {
    "scrolled": true
   },
   "outputs": [
    {
     "data": {
      "image/png": "[encoded data removed]",
      "text/plain": [
       "<matplotlib.figure.Figure at 0x107ea1050>"
      ]
     },
     "metadata": {},
     "output_type": "display_data"
    }
   ],
   "source": [
    "a=np.array([]) #J-H\n",
    "b=np.array([]) # StarID\n",
    "with open('JH.csv') as csvfile:\n",
    "    readCSV = csv.reader(csvfile, delimiter='|')\n",
    "    for row in readCSV:\n",
    "        a=np.append(a,float(row[0])) \n",
    "plt.hist(a,bins=500) \n",
    "plt.xlim(0,4)\n",
    "plt.xlabel('J-H')\n",
    "plt.show()\n"
   ]
  },
  {
   "cell_type": "markdown",
   "metadata": {},
   "source": [
    "## R3\n",
    "Q:  Find the objects where Ks differs by more than 20 times the flux uncertainty from the mean flux."
   ]
  },
  {
   "cell_type": "markdown",
   "metadata": {},
   "source": [
    "### Code: \n",
    "\n",
    "SELECT avg(Flux1) FROM Field_1_Ks_E001; <br>\n",
    "15293.9493734802  <br>\n",
    " <br>\n",
    ".output uncertainty_E1fm.csv  <br>\n",
    "SELECT Ks.StarID,abs(Ks.Flux1-15293.9493734802)  <br>\n",
    "FROM Field_1_Ks_E001 as Ks  <br>\n",
    "WHERE abs(Ks.Flux1-15293.9493734802)>20*Ks.dFlux1;  <br>\n",
    " <br>\n",
    "SELECT avg(Flux1) FROM Field_1_Ks_E002;  <br>\n",
    "15733.3366347595  <br>\n",
    " <br>\n",
    ".output uncertainty_E2fm.csv  <br>\n",
    "SELECT Ks.StarID,abs(Ks.Flux1-15733.3366347595)  <br>\n",
    "FROM Field_1_Ks_E002 as Ks  <br>\n",
    "WHERE abs(Ks.Flux1-15733.3366347595)>20*Ks.dFlux1;  <br>\n",
    " <br>\n",
    "SELECT avg(Flux1) FROM Field_1_Ks_E003;  <br>\n",
    "24904.8434534607  <br>\n",
    " <br>\n",
    ".output uncertainty_E3fm.csv  <br>\n",
    "SELECT Ks.StarID,abs(Ks.Flux1-24904.8434534607)  <br>\n",
    "FROM Field_1_Ks_E003 as Ks  <br>\n",
    "WHERE abs(Ks.Flux1-24904.8434534607)>20*Ks.dFlux1;  <br>\n"
   ]
  },
  {
   "cell_type": "markdown",
   "metadata": {},
   "source": [
    "### A: The objects where Ks differs by more than 20 times the flux from the mean flux is plotted in a histogram as shown below."
   ]
  },
  {
   "cell_type": "code",
   "execution_count": 24,
   "metadata": {},
   "outputs": [
    {
     "data": {
      "image/png": "[encoded data removed]",
      "text/plain": [
       "<matplotlib.figure.Figure at 0x1113c88d0>"
      ]
     },
     "metadata": {},
     "output_type": "display_data"
    }
   ],
   "source": [
    "fm1=np.array([])\n",
    "with open('uncertainty_E1fm.csv') as csvfile:\n",
    "    readCSV = csv.reader(csvfile, delimiter='|')\n",
    "    for row in readCSV:\n",
    "        fm1=np.append(fm1,float(row[1]))\n",
    "plt.hist(abs(fm1),bins=100) \n",
    "plt.xlabel('uncertainty in Flux')\n",
    "plt.title('first interval')\n",
    "plt.show()"
   ]
  },
  {
   "cell_type": "code",
   "execution_count": 29,
   "metadata": {},
   "outputs": [
    {
     "data": {
      "image/png": "[encoded data removed]",
      "text/plain": [
       "<matplotlib.figure.Figure at 0x110de9a10>"
      ]
     },
     "metadata": {},
     "output_type": "display_data"
    }
   ],
   "source": [
    "fm2=np.array([])\n",
    "with open('uncertainty_E2fm.csv') as csvfile:\n",
    "    readCSV = csv.reader(csvfile, delimiter='|')\n",
    "    for row in readCSV:\n",
    "        fm2=np.append(fm2,float(row[1]))\n",
    "plt.hist(abs(fm2),bins=100) \n",
    "#plt.xlim(0,4)\n",
    "plt.xlabel('uncertainty in Flux')\n",
    "plt.title('second interval')\n",
    "plt.show()"
   ]
  },
  {
   "cell_type": "code",
   "execution_count": 30,
   "metadata": {},
   "outputs": [
    {
     "data": {
      "image/png": "[encoded data removed]",
      "text/plain": [
       "<matplotlib.figure.Figure at 0x110628d10>"
      ]
     },
     "metadata": {},
     "output_type": "display_data"
    }
   ],
   "source": [
    "fm3=np.array([])\n",
    "with open('uncertainty_E3fm.csv') as csvfile:\n",
    "    readCSV = csv.reader(csvfile, delimiter='|')\n",
    "    for row in readCSV:\n",
    "        fm3=np.append(fm3,float(row[1]))\n",
    "plt.hist(fm3,bins=100) \n",
    "#plt.xlim(0,4)\n",
    "plt.xlabel('uncertainty in Flux')\n",
    "plt.title('third interval')\n",
    "plt.show()"
   ]
  },
  {
   "cell_type": "markdown",
   "metadata": {},
   "source": [
    "## R4\n",
    "Q:  Find all catalogues that exist for a given field."
   ]
  },
  {
   "cell_type": "markdown",
   "metadata": {},
   "source": [
    "### Code:\n",
    "SELECT Filename <br>\n",
    "FROM Reference <br>\n",
    "WHERE FieldID=1; <br>\n",
    "\n",
    "SELECT Filename <br>\n",
    "FROM Reference <br>\n",
    "WHERE FieldID=2; <br>\n",
    "\n",
    "SELECT Filename <br>\n",
    "FROM Reference <br>\n",
    "WHERE FieldID=3; <br>"
   ]
  },
  {
   "cell_type": "markdown",
   "metadata": {},
   "source": [
    "### A: \n",
    "For Field 1: <br>\n",
    "<br>\n",
    "Field-1-Z.csv <br>\n",
    "Field-1-J.csv <br>\n",
    "Field-1-H.csv <br>\n",
    "Field-1-Ks-E002.csv <br>\n",
    "Field-1-Ks-E001.csv <br>\n",
    "Field-1-Ks-E003.csv <br>\n",
    "Field-1-Y.csv <br>\n",
    "<br>\n",
    "For Field 2: <br>\n",
    "<br>\n",
    "Field-2-Z.csv <br>\n",
    "Field-2-J.csv <br>\n",
    "Field-2-H.csv <br>\n",
    "Field-2-Ks-E001.csv <br>\n",
    "Field-2-Y.csv <br>\n",
    "<br>\n",
    "For FIeld 3: <br>\n",
    "<br>\n",
    "Field-3-Z.csv <br>\n",
    "Field-3-J.csv <br>\n",
    "Field-3-H.csv <br>\n",
    "Field-3-Ks-E002.csv <br>\n",
    "Field-3-Ks-E001.csv <br>\n",
    "Field-3-Y.csv <br>"
   ]
  },
  {
   "cell_type": "markdown",
   "metadata": {},
   "source": [
    "## R5\n",
    "Q:  For a given field retrieve the Y, Z, J, H and Ks magnitudes for all stars with S/N > 30 in Y, Z, J, H and Ks"
   ]
  },
  {
   "cell_type": "markdown",
   "metadata": {},
   "source": [
    "### Code:\n",
    "(Field 1 is considered) <br>\n",
    "<br>\n",
    ".output magnitudes.csv <br>\n",
    "SELECT H.StarID,H.Mag1,J.Mag1,Z.Mag1,Y.Mag1,KsE1.Mag1,KsE2.Mag1,KsE3.Mag1 <br>\n",
    "FROM Field_1_H as H <br>\n",
    "JOIN Field_1_J as J ON H.StarID=J.StarID <br>\n",
    "JOIN Field_1_Y as Y ON H.StarID=Y.StarID <br>\n",
    "JOIN Field_1_Z as Z ON H.StarID=Z.StarID <br>\n",
    "JOIN Field_1_Ks_E001 as KsE1 ON H.StarID=KsE1.StarID <br>\n",
    "JOIN Field_1_Ks_E002 as KsE2 ON H.StarID=KsE2.StarID <br>\n",
    "JOIN Field_1_Ks_E003 as KsE3 ON H.StarID=KsE3.StarID <br>\n",
    "WHERE H.Flux1/H.dFlux1>30 AND J.Flux1/J.dFlux1>30 AND Z.Flux1/Z.dFlux1>30 AND Y.Flux1/Y.dFlux1>30 AND KsE1.Flux1/KsE1.dFlux1>30 AND KsE2.Flux1/KsE2.dFlux1>30 AND KsE3.Flux1/KsE3.dFlux1>30;"
   ]
  },
  {
   "cell_type": "markdown",
   "metadata": {},
   "source": [
    "### A: Plotting all 7 histograms "
   ]
  },
  {
   "cell_type": "code",
   "execution_count": 13,
   "metadata": {},
   "outputs": [
    {
     "data": {
      "image/png": "[encoded data removed]",
      "text/plain": [
       "<matplotlib.figure.Figure at 0x111311590>"
      ]
     },
     "metadata": {},
     "output_type": "display_data"
    },
    {
     "data": {
      "image/png": "[encoded data removed]",
      "text/plain": [
       "<matplotlib.figure.Figure at 0x111345650>"
      ]
     },
     "metadata": {},
     "output_type": "display_data"
    },
    {
     "data": {
      "image/png": "[encoded data removed]",
      "text/plain": [
       "<matplotlib.figure.Figure at 0x111339ed0>"
      ]
     },
     "metadata": {},
     "output_type": "display_data"
    },
    {
     "data": {
      "image/png": "[encoded data removed]",
      "text/plain": [
       "<matplotlib.figure.Figure at 0x110e83e50>"
      ]
     },
     "metadata": {},
     "output_type": "display_data"
    },
    {
     "data": {
      "image/png": "[encoded data removed]",
      "text/plain": [
       "<matplotlib.figure.Figure at 0x110fe7690>"
      ]
     },
     "metadata": {},
     "output_type": "display_data"
    },
    {
     "data": {
      "image/png": "[encoded data removed]",
      "text/plain": [
       "<matplotlib.figure.Figure at 0x110fcec10>"
      ]
     },
     "metadata": {},
     "output_type": "display_data"
    },
    {
     "data": {
      "image/png": "[encoded data removed]",
      "text/plain": [
       "<matplotlib.figure.Figure at 0x110fceb90>"
      ]
     },
     "metadata": {},
     "output_type": "display_data"
    }
   ],
   "source": [
    "h=np.array([])\n",
    "j=np.array([])\n",
    "z=np.array([])\n",
    "y=np.array([])\n",
    "KsE1=np.array([])\n",
    "KsE2=np.array([])\n",
    "KsE3=np.array([])\n",
    "\n",
    "with open('magnitudes.csv') as csvfile:\n",
    "    readCSV = csv.reader(csvfile, delimiter='|')\n",
    "    for row in readCSV:\n",
    "        h=np.append(h,float(row[1]))\n",
    "        j=np.append(j,float(row[2]))\n",
    "        z=np.append(z,float(row[3]))\n",
    "        y=np.append(y,float(row[4]))\n",
    "        KsE1=np.append(KsE1,float(row[5]))\n",
    "        KsE2=np.append(KsE2,float(row[6]))\n",
    "        KsE3=np.append(KsE3,float(row[7]))\n",
    "\n",
    "plt.hist(h,bins=100) \n",
    "plt.xlabel('Mag1')\n",
    "plt.title('H')\n",
    "plt.show()\n",
    "\n",
    "\n",
    "plt.hist(j,bins=100) \n",
    "plt.xlabel('Mag1')\n",
    "plt.title('J')\n",
    "plt.show()\n",
    "\n",
    "\n",
    "plt.hist(z,bins=100) \n",
    "plt.xlabel('Mag1')\n",
    "plt.title('Z')\n",
    "plt.show()\n",
    "\n",
    "plt.hist(y,bins=100) \n",
    "plt.xlabel('Mag1')\n",
    "plt.title('Y')\n",
    "plt.show()\n",
    "\n",
    "plt.hist(KsE1,bins=100) \n",
    "plt.xlabel('Mag1')\n",
    "plt.title('KsE1')\n",
    "plt.show()\n",
    "\n",
    "plt.hist(KsE2,bins=100) \n",
    "plt.xlabel('Mag1')\n",
    "plt.title('KsE2')\n",
    "plt.show()\n",
    "\n",
    "plt.hist(KsE3,bins=100) \n",
    "plt.xlabel('Mag1')\n",
    "plt.title('KsE3')\n",
    "plt.show()\n"
   ]
  },
  {
   "cell_type": "markdown",
   "metadata": {},
   "source": []
  },
  {
   "cell_type": "markdown",
   "metadata": {},
   "source": [
    "##  Ambiguities in the constraints\n",
    "There are several ambiguities in the constraints above. They are:<br>\n",
    "1)Only the Flux in aperture 1 is considered for R2, R3 and R5.<br>\n",
    "2)In R3 the absolute value of the uncertainity is taken. As the asked constriant is ambiguous about how the flux must differ from the mean. \n",
    "\n"
   ]
  },
  {
   "cell_type": "markdown",
   "metadata": {
    "collapsed": true
   },
   "source": [
    "## Euclid Space Mission (Probability density estimation)\n"
   ]
  },
  {
   "cell_type": "markdown",
   "metadata": {},
   "source": [
    "The idea is to estimate the probability density distribution of the data Y-J vs J-H and use this distribution to predict 100000 stars. <br>\n",
    "To estimate the probability density distribution, Kernel Density Estimation (or KDE) with a gaussian kernel is used. <br>\n",
    "Justification:<br>\n",
    "KDE is used because <br>\n",
    "1) It is very flexible. <br>\n",
    "2) Fits the data well for the given dataset hence the prediction will be accurate. \n",
    "3) KDE is smooth\n",
    "\n",
    "The gaussian kernel is used because at for larger datasets gaussian is more suitable as it treats every datapoint with a definable significance while estimating the probability density at one point. <br>\n",
    "\n"
   ]
  },
  {
   "cell_type": "markdown",
   "metadata": {},
   "source": [
    "### Retrieving the Y-J and J-H columns\n",
    "The Y-J and J-H columns are obtained from all the 3 fields. These two columns are then stored in a .csv file. "
   ]
  },
  {
   "cell_type": "markdown",
   "metadata": {},
   "source": [
    "#### Code:\n",
    ".output Euclid.csv <br>\n",
    "SELECT Y.Mag1-J.Mag1,J.Mag1-H.Mag1 <br>\n",
    "FROM Field_1_Y as Y <br>\n",
    "JOIN Field_1_J as J ON Y.StarID=J.StarID <br>\n",
    "JOIN Field_1_H as H ON Y.StarID=H.StarID <br>\n",
    "UNION <br>\n",
    "SELECT Y.Mag1-J.Mag1,J.Mag1-H.Mag1 <br>\n",
    "FROM Field_2_Y as Y <br>\n",
    "JOIN Field_2_J as J ON Y.StarID=J.StarID <br>\n",
    "JOIN Field_2_H as H ON Y.StarID=H.StarID <br>\n",
    "UNION <br>\n",
    "SELECT Y.Mag1-J.Mag1,J.Mag1-H.Mag1 <br>\n",
    "FROM Field_3_Y as Y <br>\n",
    "JOIN Field_3_J as J ON Y.StarID=J.StarID <br>\n",
    "JOIN Field_3_H as H ON Y.StarID=H.StarID; <br>\n"
   ]
  },
  {
   "cell_type": "code",
   "execution_count": 14,
   "metadata": {
    "collapsed": true
   },
   "outputs": [],
   "source": [
    "yj=np.array([])\n",
    "jh=np.array([])\n",
    "with open('Euclid.csv') as csvfile:\n",
    "    readCSV = csv.reader(csvfile, delimiter='|')\n",
    "    for row in readCSV:\n",
    "        yj=np.append(yj,float(row[0]))\n",
    "        jh=np.append(jh,float(row[1]))\n"
   ]
  },
  {
   "cell_type": "markdown",
   "metadata": {},
   "source": [
    "The data is plotted as is to assess any trends to later compare  with the simulated stars. "
   ]
  },
  {
   "cell_type": "code",
   "execution_count": 15,
   "metadata": {},
   "outputs": [
    {
     "data": {
      "image/png": "[encoded data removed]",
      "text/plain": [
       "<matplotlib.figure.Figure at 0x111738f90>"
      ]
     },
     "metadata": {},
     "output_type": "display_data"
    }
   ],
   "source": [
    "plt.scatter(yj,jh)\n",
    "plt.xlabel('Y-J')\n",
    "plt.ylabel('J-H')\n",
    "plt.title('real data')\n",
    "plt.show()"
   ]
  },
  {
   "cell_type": "markdown",
   "metadata": {},
   "source": [
    "### Fitting the KDE "
   ]
  },
  {
   "cell_type": "markdown",
   "metadata": {},
   "source": [
    "The KDE is fit using the following code. "
   ]
  },
  {
   "cell_type": "code",
   "execution_count": 16,
   "metadata": {
    "collapsed": true
   },
   "outputs": [],
   "source": [
    "from sklearn.model_selection import GridSearchCV\n",
    "from sklearn.neighbors import KernelDensity"
   ]
  },
  {
   "cell_type": "code",
   "execution_count": 17,
   "metadata": {
    "collapsed": true
   },
   "outputs": [],
   "source": [
    "S= np.vstack((yj,jh)).T"
   ]
  },
  {
   "cell_type": "code",
   "execution_count": 22,
   "metadata": {
    "collapsed": true
   },
   "outputs": [],
   "source": [
    "bws = np.linspace(0.1, 1, 10)\n",
    "params = {'bandwidth': bws}"
   ]
  },
  {
   "cell_type": "markdown",
   "metadata": {},
   "source": [
    "It is important to estimate the ideal bandwidth as it provides the balanced bias-variance to the density estimated. "
   ]
  },
  {
   "cell_type": "code",
   "execution_count": 23,
   "metadata": {},
   "outputs": [
    {
     "name": "stdout",
     "output_type": "stream",
     "text": [
      "best bandwidth: 0.3\n"
     ]
    }
   ],
   "source": [
    "# cv=5 indicates 5-fold cross-validation\n",
    "grid = GridSearchCV(KernelDensity(), params, cv=5)\n",
    "grid.fit(S, y=None, groups=None)\n",
    "\n",
    "print(\"best bandwidth: {0}\".format(grid.best_estimator_.bandwidth))"
   ]
  },
  {
   "cell_type": "code",
   "execution_count": 25,
   "metadata": {},
   "outputs": [
    {
     "data": {
      "text/plain": [
       "KernelDensity(algorithm='auto', atol=0, bandwidth=0.3, breadth_first=True,\n",
       "       kernel='gaussian', leaf_size=40, metric='euclidean',\n",
       "       metric_params=None, rtol=0)"
      ]
     },
     "execution_count": 25,
     "metadata": {},
     "output_type": "execute_result"
    }
   ],
   "source": [
    "kde = KernelDensity(kernel='gaussian', bandwidth=0.3) \n",
    "kde.fit(S)"
   ]
  },
  {
   "cell_type": "code",
   "execution_count": 26,
   "metadata": {
    "collapsed": true
   },
   "outputs": [],
   "source": [
    "Xx=kde.sample(100000)\n",
    "x=Xx[:,0]\n",
    "y=Xx[:,1]"
   ]
  },
  {
   "cell_type": "markdown",
   "metadata": {},
   "source": [
    "## Plotting the simulated objects"
   ]
  },
  {
   "cell_type": "code",
   "execution_count": 27,
   "metadata": {},
   "outputs": [
    {
     "data": {
      "image/png": "[encoded data removed]",
      "text/plain": [
       "<matplotlib.figure.Figure at 0x11062ed10>"
      ]
     },
     "metadata": {},
     "output_type": "display_data"
    }
   ],
   "source": [
    "plt.scatter(x,y)\n",
    "plt.xlabel('Y-J')\n",
    "plt.ylabel('J-H')\n",
    "plt.title('simulated data')\n",
    "plt.show()\n"
   ]
  },
  {
   "cell_type": "code",
   "execution_count": null,
   "metadata": {
    "collapsed": true
   },
   "outputs": [],
   "source": []
  },
  {
   "cell_type": "markdown",
   "metadata": {},
   "source": [
    "Observations: It is apparent that the trend of the simulated data resembles the actual data. To further estimate the likelihood of each point in the estimated distribution we can further plot the probability density. \n"
   ]
  },
  {
   "cell_type": "code",
   "execution_count": 33,
   "metadata": {},
   "outputs": [
    {
     "data": {
      "image/png": "[encoded data removed]",
      "text/plain": [
       "<matplotlib.figure.Figure at 0x11170c050>"
      ]
     },
     "metadata": {},
     "output_type": "display_data"
    }
   ],
   "source": [
    "logprob=kde.score_samples(S)\n",
    "plt.plot(S,np.exp(logprob))\n",
    "plt.show()"
   ]
  },
  {
   "cell_type": "markdown",
   "metadata": {},
   "source": [
    "Reference: https://jakevdp.github.io/PythonDataScienceHandbook/05.13-kernel-density-estimation.html"
   ]
  },
  {
   "cell_type": "code",
   "execution_count": null,
   "metadata": {
    "collapsed": true
   },
   "outputs": [],
   "source": [
    "# DROP TABLE Field_1_H;\n",
    "# DROP TABLE Field_1_J; \n",
    "# DROP TABLE Field_1_Ks_E001; \n",
    "# DROP TABLE Field_1_Ks_E002;\n",
    "# DROP TABLE Field_1_Ks_E003; \n",
    "# DROP TABLE Field_1_Y;\n",
    "# DROP TABLE Field_1_Z; \n",
    "# DROP TABLE Field_2_H;\n",
    "# DROP TABLE Field_2_J; \n",
    "# DROP TABLE Field_2_Ks_E001; \n",
    "# DROP TABLE Field_2_Y; \n",
    "# DROP TABLE Field_2_Z; \n",
    "# DROP TABLE Field_3_H; \n",
    "# DROP TABLE Field_3_J; \n",
    "# DROP TABLE Field_3_Ks_E001; \n",
    "# DROP TABLE Field_3_Ks_E002;\n",
    "# DROP TABLE Field_3_Y; \n",
    "# DROP TABLE Field_3_Z; \n",
    "\n",
    "# .header On\n",
    "# .mode column\n",
    "# SELECT *\n",
    "# FROM Field_1_H\n",
    "# WHERE StarID=9998;\n",
    "\n",
    "# FROM Reference;"
   ]
  },
  {
   "cell_type": "markdown",
   "metadata": {
    "collapsed": true
   },
   "source": [
    "The coding is mostly taken from the assignments. For the ones borrowed, the sources are mentioned as Reference. "
   ]
  },
  {
   "cell_type": "code",
   "execution_count": null,
   "metadata": {
    "collapsed": true
   },
   "outputs": [],
   "source": []
  }
 ],
 "metadata": {
  "kernelspec": {
   "display_name": "Python 2",
   "language": "python",
   "name": "python2"
  },
  "language_info": {
   "codemirror_mode": {
    "name": "ipython",
    "version": 2
   },
   "file_extension": ".py",
   "mimetype": "text/x-python",
   "name": "python",
   "nbconvert_exporter": "python",
   "pygments_lexer": "ipython2",
   "version": "2.7.13"
  }
 },
 "nbformat": 4,
 "nbformat_minor": 2
}
